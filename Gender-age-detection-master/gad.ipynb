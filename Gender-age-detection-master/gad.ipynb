{
  "nbformat": 4,
  "nbformat_minor": 0,
  "metadata": {
    "colab": {
      "name": "gad.ipynb",
      "provenance": [],
      "authorship_tag": "ABX9TyMMVdAL8NSaczaVt6uTcWdI",
      "include_colab_link": true
    },
    "kernelspec": {
      "name": "python3",
      "display_name": "Python 3"
    }
  },
  "cells": [
    {
      "cell_type": "markdown",
      "metadata": {
        "id": "view-in-github",
        "colab_type": "text"
      },
      "source": [
        "<a href=\"https://colab.research.google.com/github/MoonOrchid11/Covid19-Analysis/blob/master/gad.ipynb\" target=\"_parent\"><img src=\"https://colab.research.google.com/assets/colab-badge.svg\" alt=\"Open In Colab\"/></a>"
      ]
    },
    {
      "cell_type": "code",
      "metadata": {
        "id": "2Zz7UlUz0Wty",
        "colab_type": "code",
        "colab": {}
      },
      "source": [
        "!pip install opencv-python"
      ],
      "execution_count": 0,
      "outputs": []
    },
    {
      "cell_type": "code",
      "metadata": {
        "id": "JQPrb_4F3VnD",
        "colab_type": "code",
        "colab": {}
      },
      "source": [
        "import cv2\n",
        "import math\n",
        "import argparse"
      ],
      "execution_count": 0,
      "outputs": []
    },
    {
      "cell_type": "code",
      "metadata": {
        "id": "k6cdGPrv3Xfq",
        "colab_type": "code",
        "colab": {}
      },
      "source": [
        "def highlightFace(net, frame, conf_threshold=0.7):\n",
        "    frameOpencvDnn=frame.copy()\n",
        "    frameHeight=frameOpencvDnn.shape[0]\n",
        "    frameWidth=frameOpencvDnn.shape[1]\n",
        "    blob=cv2.dnn.blobFromImage(frameOpencvDnn, 1.0, (300, 300), [104, 117, 123], True, False)\n",
        "\n",
        "    net.setInput(blob)\n",
        "    detections=net.forward()\n",
        "    faceBoxes=[]\n",
        "    for i in range(detections.shape[2]):\n",
        "        confidence=detections[0,0,i,2]\n",
        "        if confidence>conf_threshold:\n",
        "            x1=int(detections[0,0,i,3]*frameWidth)\n",
        "            y1=int(detections[0,0,i,4]*frameHeight)\n",
        "            x2=int(detections[0,0,i,5]*frameWidth)\n",
        "            y2=int(detections[0,0,i,6]*frameHeight)\n",
        "            faceBoxes.append([x1,y1,x2,y2])\n",
        "            cv2.rectangle(frameOpencvDnn, (x1,y1), (x2,y2), (0,255,0), int(round(frameHeight/150)), 8)\n",
        "    return frameOpencvDnn,faceBoxes"
      ],
      "execution_count": 0,
      "outputs": []
    },
    {
      "cell_type": "markdown",
      "metadata": {
        "id": "WXzQwett31m7",
        "colab_type": "text"
      },
      "source": [
        "create an argument parser so we can get the image argument"
      ]
    },
    {
      "cell_type": "code",
      "metadata": {
        "id": "Vm_-REOQ34Rr",
        "colab_type": "code",
        "colab": {}
      },
      "source": [
        "parser=argparse.ArgumentParser()\n",
        "parser.add_argument('--image')\n",
        "\n",
        "args=parser.parse_args('')"
      ],
      "execution_count": 0,
      "outputs": []
    },
    {
      "cell_type": "markdown",
      "metadata": {
        "id": "aT_Iulz26LXH",
        "colab_type": "text"
      },
      "source": [
        "face, age, and gender, initialize protocol buffer and model"
      ]
    },
    {
      "cell_type": "code",
      "metadata": {
        "id": "UwEd6qeq3_2a",
        "colab_type": "code",
        "colab": {}
      },
      "source": [
        "faceProto=\"opencv_face_detector.pbtxt\"\n",
        "faceModel=\"opencv_face_detector_uint8.pb\"\n",
        "ageProto=\"age_deploy.prototxt\"\n",
        "ageModel=\"age_net.caffemodel\"\n",
        "genderProto=\"gender_deploy.prototxt\"\n",
        "genderModel=\"gender_net.caffemodel\""
      ],
      "execution_count": 0,
      "outputs": []
    },
    {
      "cell_type": "markdown",
      "metadata": {
        "id": "JVogB3Os6YVd",
        "colab_type": "text"
      },
      "source": [
        "Initialize the mean values for the model and the lists of age ranges and genders to classify from"
      ]
    },
    {
      "cell_type": "code",
      "metadata": {
        "id": "qYXZVMXe6OXU",
        "colab_type": "code",
        "colab": {}
      },
      "source": [
        "MODEL_MEAN_VALUES=(78.4263377603, 87.7689143744, 114.895847746)\n",
        "ageList=['(0-2)', '(4-6)', '(8-12)', '(15-20)', '(25-32)', '(38-43)', '(48-53)', '(60-100)']\n",
        "genderList=['Male','Female']\n"
      ],
      "execution_count": 0,
      "outputs": []
    },
    {
      "cell_type": "markdown",
      "metadata": {
        "id": "-qv4_Q-T6yr0",
        "colab_type": "text"
      },
      "source": [
        "readNet() method to load the networks\n"
      ]
    },
    {
      "cell_type": "code",
      "metadata": {
        "id": "xMHiCFFT6ojg",
        "colab_type": "code",
        "colab": {}
      },
      "source": [
        "faceNet=cv2.dnn.readNet(faceModel,faceProto)\n",
        "ageNet=cv2.dnn.readNet(ageModel,ageProto)\n",
        "genderNet=cv2.dnn.readNet(genderModel,genderProto)\n"
      ],
      "execution_count": 0,
      "outputs": []
    },
    {
      "cell_type": "markdown",
      "metadata": {
        "id": "ZmG9kOAj656K",
        "colab_type": "text"
      },
      "source": [
        "To classify on a webcam’s stream"
      ]
    },
    {
      "cell_type": "code",
      "metadata": {
        "id": "mx7XjiNd69y-",
        "colab_type": "code",
        "colab": {}
      },
      "source": [
        "video=cv2.VideoCapture(args.image if args.image else 0)\n",
        "padding=20"
      ],
      "execution_count": 0,
      "outputs": []
    },
    {
      "cell_type": "code",
      "metadata": {
        "id": "VG6_O2gH7Rep",
        "colab_type": "code",
        "colab": {}
      },
      "source": [
        "while cv2.waitKey(1)<0:\n",
        "    hasFrame,frame=video.read()\n",
        "    if not hasFrame:\n",
        "        cv2.waitKey()\n",
        "        break\n",
        "\n",
        "    resultImg,faceBoxes=highlightFace(faceNet,frame)\n",
        "    if not faceBoxes:\n",
        "        print(\"No face detected\")\n",
        "\n",
        "    for faceBox in faceBoxes:\n",
        "        face=frame[max(0,faceBox[1]-padding):\n",
        "                   min(faceBox[3]+padding,frame.shape[0]-1),max(0,faceBox[0]-padding)\n",
        "                   :min(faceBox[2]+padding, frame.shape[1]-1)]\n",
        "\n",
        "        blob=cv2.dnn.blobFromImage(face, 1.0, (227,227), MODEL_MEAN_VALUES, swapRB=False)\n",
        "        genderNet.setInput(blob)\n",
        "        genderPreds=genderNet.forward()\n",
        "        gender=genderList[genderPreds[0].argmax()]\n",
        "        print(f'Gender: {gender}')\n",
        "\n",
        "        ageNet.setInput(blob)\n",
        "        agePreds=ageNet.forward()\n",
        "        age=ageList[agePreds[0].argmax()]\n",
        "        print(f'Age: {age[1:-1]} years')\n",
        "\n",
        "        #cv2.putText(resultImg, f'{gender}, {age}', (faceBox[0], faceBox[1]-10), cv2.FONT_HERSHEY_SIMPLEX, 0.8, (0,255,255), 2, cv2.LINE_AA)\n",
        "        #cv2.imshow(\"Detecting age and gender\", resultImg)\n",
        "        plt.imshow(resultImg)\n",
        "        plt.show()\n",
        "\n",
        "cv2.destroyAllWindows()"
      ],
      "execution_count": 0,
      "outputs": []
    }
  ]
}
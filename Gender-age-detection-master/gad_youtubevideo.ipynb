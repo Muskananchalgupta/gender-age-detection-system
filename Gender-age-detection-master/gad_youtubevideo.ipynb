{
  "nbformat": 4,
  "nbformat_minor": 0,
  "metadata": {
    "colab": {
      "name": "gad-youtubevideo.ipynb",
      "provenance": [],
      "authorship_tag": "ABX9TyOp24nU6MdHGvKaIy9GHbJe",
      "include_colab_link": true
    },
    "kernelspec": {
      "name": "python3",
      "display_name": "Python 3"
    }
  },
  "cells": [
    {
      "cell_type": "markdown",
      "metadata": {
        "id": "view-in-github",
        "colab_type": "text"
      },
      "source": [
        "<a href=\"https://colab.research.google.com/github/MoonOrchid11/Covid19-Analysis/blob/master/gad_youtubevideo.ipynb\" target=\"_parent\"><img src=\"https://colab.research.google.com/assets/colab-badge.svg\" alt=\"Open In Colab\"/></a>"
      ]
    },
    {
      "cell_type": "code",
      "metadata": {
        "id": "ZyHruSq78IoH",
        "colab_type": "code",
        "colab": {}
      },
      "source": [
        "!pip install opencv-python\n",
        "!pip install --upgrade youtube-dl"
      ],
      "execution_count": 0,
      "outputs": []
    },
    {
      "cell_type": "code",
      "metadata": {
        "id": "Wt2ga6_QDUsZ",
        "colab_type": "code",
        "colab": {}
      },
      "source": [
        "!pip install pafy"
      ],
      "execution_count": 0,
      "outputs": []
    },
    {
      "cell_type": "code",
      "metadata": {
        "id": "sEhBAZoq8Qaa",
        "colab_type": "code",
        "colab": {}
      },
      "source": [
        "%matplotlib inline\n",
        "import matplotlib.pyplot as plt\n",
        "import cv2\n",
        "import numpy as np\n",
        "import pafy\n",
        "#url of the video to predict Age and gender\n",
        "url = 'https://www.youtube.com/watch?v=c07IsbSNqfI&feature=youtu.be'\n",
        "vPafy = pafy.new(url)\n",
        "play = vPafy.getbest(preftype=\"mp4\") \n",
        "cap = cv2.VideoCapture(play.url)\n",
        "\n",
        "cap.set(3, 480) #set width of the frame\n",
        "cap.set(4, 640) #set height of the frame\n",
        "\n",
        "MODEL_MEAN_VALUES = (78.4263377603, 87.7689143744, 114.895847746)\n",
        "age_list = ['(0, 2)', '(4, 6)', '(8, 12)', '(15, 20)', '(25, 32)', '(38, 43)', '(48, 53)', '(60, 100)']\n",
        "gender_list = ['Male', 'Female']\n",
        "\n",
        "def load_caffe_models():\n",
        "  age_net = cv2.dnn.readNetFromCaffe('age_deploy.prototxt', 'age_net.caffemodel')\n",
        "  gender_net = cv2.dnn.readNetFromCaffe('gender_deploy.prototxt', 'gender_net.caffemodel')\n",
        "  return(age_net, gender_net)\n",
        "\n",
        "\n",
        "def video_detector(age_net, gender_net):\n",
        "  font = cv2.FONT_HERSHEY_SIMPLEX\n",
        "\n",
        "  while True:\n",
        "    ret, image = cap.read()\n",
        "        \n",
        "    face_cascade = cv2.CascadeClassifier(cv2.data.haarcascades +'haarcascade_frontalface_alt.xml')\n",
        "  \n",
        "    gray = cv2.cvtColor(image, cv2.COLOR_BGR2GRAY)\n",
        "    faces = face_cascade.detectMultiScale(gray, 1.1, 5)\n",
        "    if(len(faces)>0):\n",
        "      print(\"Found {} faces\".format(str(len(faces))))\n",
        "    for (x, y, w, h )in faces:\n",
        "      cv2.rectangle(image, (x, y), (x+w, y+h), (255, 255, 0), 2)\n",
        "    #Get Face \n",
        "      face_img = image[y:y+h, h:h+w].copy()\n",
        "      blob = cv2.dnn.blobFromImage(face_img, 1, (227, 227), MODEL_MEAN_VALUES, swapRB=False)\n",
        "    #Predict Gender\n",
        "      gender_net.setInput(blob)\n",
        "      gender_preds = gender_net.forward()\n",
        "      gender = gender_list[gender_preds[0].argmax()]\n",
        "      print(\"Gender : \" + gender)\n",
        "    #Predict Age\n",
        "      age_net.setInput(blob)\n",
        "      age_preds = age_net.forward()\n",
        "      age = age_list[age_preds[0].argmax()]\n",
        "      print(\"Age Range: \" + age)\n",
        "    overlay_text = \"%s %s\" % (gender, age)\n",
        "    cv2.putText(image, overlay_text, (x, y), font, 1, (255, 255, 255), 2, cv2.LINE_AA)\n",
        "    cv2.imshow('frame', image)  \n",
        "    #0xFF is a hexadecimal constant which is 11111111 in binary.\n",
        "    if cv2.waitKey(1) & 0xFF == ord('q'): \n",
        "      break\n",
        "\n",
        "\n",
        "\n",
        "\n",
        "\n",
        "if __name__ == \"__main__\":\n",
        "  age_net, gender_net = load_caffe_models()\n",
        "  video_detector(age_net, gender_net)\n",
        "\n"
      ],
      "execution_count": 0,
      "outputs": []
    }
  ]
}